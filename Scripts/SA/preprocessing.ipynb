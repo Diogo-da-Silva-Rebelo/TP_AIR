{
 "cells": [
  {
   "attachments": {},
   "cell_type": "markdown",
   "metadata": {},
   "source": [
    "# AQI prediction with historical pollutants concentration values"
   ]
  },
  {
   "attachments": {},
   "cell_type": "markdown",
   "metadata": {},
   "source": [
    "## Imports"
   ]
  },
  {
   "cell_type": "code",
   "execution_count": 1,
   "metadata": {},
   "outputs": [],
   "source": [
    "import pandas as pd\n",
    "import numpy as np\n",
    "import matplotlib.pyplot as plt\n",
    "import seaborn as sns\n",
    "import holidays\n"
   ]
  },
  {
   "attachments": {},
   "cell_type": "markdown",
   "metadata": {},
   "source": [
    "## Read Datasets"
   ]
  },
  {
   "cell_type": "code",
   "execution_count": 2,
   "metadata": {},
   "outputs": [],
   "source": [
    "# Read 9 datasets using a for loop\n",
    "#Theres 3 locations, 2015 to 2023\n",
    "locations = [7188,7191,8720]\n",
    "start_years = [2015,2018,2020]\n",
    "end_years = [2018,2020,2023]\n",
    "\n",
    "for location, start_year, end_year in zip(locations, start_years, end_years):\n",
    "    dataset_name = f\"braga_{location}_{start_year}_{end_year}.csv\"\n",
    "    globals()[f\"braga_{location}\"] = pd.read_csv(\"OpenAQ/\" + dataset_name, index_col=0)\n"
   ]
  },
  {
   "attachments": {},
   "cell_type": "markdown",
   "metadata": {},
   "source": [
    "## Proccess"
   ]
  },
  {
   "cell_type": "code",
   "execution_count": 3,
   "metadata": {},
   "outputs": [],
   "source": [
    "# Concatenate all datasets into one\n",
    "braga_air_data = pd.concat([braga_7188, braga_7191, braga_8720], axis=0)\n",
    "\n",
    "# Drop duplicates\n",
    "braga_air_data = braga_air_data.drop_duplicates()"
   ]
  },
  {
   "cell_type": "code",
   "execution_count": 4,
   "metadata": {},
   "outputs": [],
   "source": [
    "# remove location column\n",
    "braga_air_data = braga_air_data.drop(columns=[\"location\"])"
   ]
  },
  {
   "cell_type": "code",
   "execution_count": 5,
   "metadata": {},
   "outputs": [
    {
     "data": {
      "text/plain": [
       "False"
      ]
     },
     "execution_count": 5,
     "metadata": {},
     "output_type": "execute_result"
    }
   ],
   "source": [
    "# check if utl column and local columns are the same\n",
    "braga_air_data[\"utc\"].equals(braga_air_data[\"local\"])"
   ]
  },
  {
   "cell_type": "code",
   "execution_count": 6,
   "metadata": {},
   "outputs": [],
   "source": [
    "# drop local column\n",
    "braga_air_data = braga_air_data.drop(columns=[\"local\"])"
   ]
  },
  {
   "cell_type": "code",
   "execution_count": 7,
   "metadata": {},
   "outputs": [],
   "source": [
    "# drop unit column\n",
    "braga_air_data = braga_air_data.drop(columns=[\"unit\"])"
   ]
  },
  {
   "cell_type": "code",
   "execution_count": 8,
   "metadata": {},
   "outputs": [
    {
     "data": {
      "text/html": [
       "<div>\n",
       "<style scoped>\n",
       "    .dataframe tbody tr th:only-of-type {\n",
       "        vertical-align: middle;\n",
       "    }\n",
       "\n",
       "    .dataframe tbody tr th {\n",
       "        vertical-align: top;\n",
       "    }\n",
       "\n",
       "    .dataframe thead th {\n",
       "        text-align: right;\n",
       "    }\n",
       "</style>\n",
       "<table border=\"1\" class=\"dataframe\">\n",
       "  <thead>\n",
       "    <tr style=\"text-align: right;\">\n",
       "      <th></th>\n",
       "      <th>city</th>\n",
       "      <th>country</th>\n",
       "      <th>utc</th>\n",
       "      <th>latitude</th>\n",
       "      <th>longitude</th>\n",
       "      <th>pm10</th>\n",
       "      <th>no2</th>\n",
       "      <th>o3</th>\n",
       "    </tr>\n",
       "    <tr>\n",
       "      <th>locationId</th>\n",
       "      <th></th>\n",
       "      <th></th>\n",
       "      <th></th>\n",
       "      <th></th>\n",
       "      <th></th>\n",
       "      <th></th>\n",
       "      <th></th>\n",
       "      <th></th>\n",
       "    </tr>\n",
       "  </thead>\n",
       "  <tbody>\n",
       "    <tr>\n",
       "      <th>7188</th>\n",
       "      <td>Braga</td>\n",
       "      <td>PT</td>\n",
       "      <td>2017-12-29T04:00:00+00:00</td>\n",
       "      <td>41.549722</td>\n",
       "      <td>-8.405833</td>\n",
       "      <td>9.4</td>\n",
       "      <td>67.2</td>\n",
       "      <td>None</td>\n",
       "    </tr>\n",
       "    <tr>\n",
       "      <th>7188</th>\n",
       "      <td>Braga</td>\n",
       "      <td>PT</td>\n",
       "      <td>2017-12-29T04:00:00+00:00</td>\n",
       "      <td>41.549722</td>\n",
       "      <td>-8.405833</td>\n",
       "      <td>9.4</td>\n",
       "      <td>67.2</td>\n",
       "      <td>None</td>\n",
       "    </tr>\n",
       "    <tr>\n",
       "      <th>7188</th>\n",
       "      <td>Braga</td>\n",
       "      <td>PT</td>\n",
       "      <td>2017-12-29T03:00:00+00:00</td>\n",
       "      <td>41.549722</td>\n",
       "      <td>-8.405833</td>\n",
       "      <td>9.4</td>\n",
       "      <td>67.2</td>\n",
       "      <td>None</td>\n",
       "    </tr>\n",
       "    <tr>\n",
       "      <th>7188</th>\n",
       "      <td>Braga</td>\n",
       "      <td>PT</td>\n",
       "      <td>2017-12-29T03:00:00+00:00</td>\n",
       "      <td>41.549722</td>\n",
       "      <td>-8.405833</td>\n",
       "      <td>9.4</td>\n",
       "      <td>67.2</td>\n",
       "      <td>None</td>\n",
       "    </tr>\n",
       "    <tr>\n",
       "      <th>7188</th>\n",
       "      <td>Braga</td>\n",
       "      <td>PT</td>\n",
       "      <td>2017-12-29T02:00:00+00:00</td>\n",
       "      <td>41.549722</td>\n",
       "      <td>-8.405833</td>\n",
       "      <td>9.4</td>\n",
       "      <td>67.2</td>\n",
       "      <td>None</td>\n",
       "    </tr>\n",
       "  </tbody>\n",
       "</table>\n",
       "</div>"
      ],
      "text/plain": [
       "             city country                        utc   latitude  longitude  \\\n",
       "locationId                                                                   \n",
       "7188        Braga      PT  2017-12-29T04:00:00+00:00  41.549722  -8.405833   \n",
       "7188        Braga      PT  2017-12-29T04:00:00+00:00  41.549722  -8.405833   \n",
       "7188        Braga      PT  2017-12-29T03:00:00+00:00  41.549722  -8.405833   \n",
       "7188        Braga      PT  2017-12-29T03:00:00+00:00  41.549722  -8.405833   \n",
       "7188        Braga      PT  2017-12-29T02:00:00+00:00  41.549722  -8.405833   \n",
       "\n",
       "           pm10   no2    o3  \n",
       "locationId                   \n",
       "7188        9.4  67.2  None  \n",
       "7188        9.4  67.2  None  \n",
       "7188        9.4  67.2  None  \n",
       "7188        9.4  67.2  None  \n",
       "7188        9.4  67.2  None  "
      ]
     },
     "execution_count": 8,
     "metadata": {},
     "output_type": "execute_result"
    }
   ],
   "source": [
    "# create column for each parameter\n",
    "parameters = braga_air_data['parameter'].unique()\n",
    "\n",
    "for param in parameters:\n",
    "    braga_air_data[param] = None\n",
    "\n",
    "# Preencher os valores nas colunas correspondentes\n",
    "for index, row in braga_air_data.iterrows():\n",
    "    parameter = row['parameter']\n",
    "    value = row['value']\n",
    "    braga_air_data.at[index, parameter] = value\n",
    "\n",
    "# drop parameter column\n",
    "braga_air_data = braga_air_data.drop(columns=[\"parameter\"])\n",
    "\n",
    "# drop value column\n",
    "braga_air_data = braga_air_data.drop(columns=[\"value\"])\n",
    "\n",
    "# check head\n",
    "braga_air_data.head()"
   ]
  },
  {
   "cell_type": "code",
   "execution_count": 9,
   "metadata": {},
   "outputs": [],
   "source": [
    "# drop country column\n",
    "braga_air_data = braga_air_data.drop(columns=[\"country\"])\n",
    "# drop cty column\n",
    "braga_air_data = braga_air_data.drop(columns=[\"city\"])"
   ]
  },
  {
   "cell_type": "code",
   "execution_count": 10,
   "metadata": {},
   "outputs": [
    {
     "data": {
      "text/html": [
       "<div>\n",
       "<style scoped>\n",
       "    .dataframe tbody tr th:only-of-type {\n",
       "        vertical-align: middle;\n",
       "    }\n",
       "\n",
       "    .dataframe tbody tr th {\n",
       "        vertical-align: top;\n",
       "    }\n",
       "\n",
       "    .dataframe thead th {\n",
       "        text-align: right;\n",
       "    }\n",
       "</style>\n",
       "<table border=\"1\" class=\"dataframe\">\n",
       "  <thead>\n",
       "    <tr style=\"text-align: right;\">\n",
       "      <th></th>\n",
       "      <th>utc</th>\n",
       "      <th>latitude</th>\n",
       "      <th>longitude</th>\n",
       "      <th>pm10</th>\n",
       "      <th>no2</th>\n",
       "      <th>o3</th>\n",
       "    </tr>\n",
       "    <tr>\n",
       "      <th>locationId</th>\n",
       "      <th></th>\n",
       "      <th></th>\n",
       "      <th></th>\n",
       "      <th></th>\n",
       "      <th></th>\n",
       "      <th></th>\n",
       "    </tr>\n",
       "  </thead>\n",
       "  <tbody>\n",
       "    <tr>\n",
       "      <th>7188</th>\n",
       "      <td>2017-12-29T04:00:00+00:00</td>\n",
       "      <td>41.549722</td>\n",
       "      <td>-8.405833</td>\n",
       "      <td>9.4</td>\n",
       "      <td>67.2</td>\n",
       "      <td>None</td>\n",
       "    </tr>\n",
       "    <tr>\n",
       "      <th>7188</th>\n",
       "      <td>2017-12-29T04:00:00+00:00</td>\n",
       "      <td>41.549722</td>\n",
       "      <td>-8.405833</td>\n",
       "      <td>9.4</td>\n",
       "      <td>67.2</td>\n",
       "      <td>None</td>\n",
       "    </tr>\n",
       "    <tr>\n",
       "      <th>7188</th>\n",
       "      <td>2017-12-29T03:00:00+00:00</td>\n",
       "      <td>41.549722</td>\n",
       "      <td>-8.405833</td>\n",
       "      <td>9.4</td>\n",
       "      <td>67.2</td>\n",
       "      <td>None</td>\n",
       "    </tr>\n",
       "    <tr>\n",
       "      <th>7188</th>\n",
       "      <td>2017-12-29T03:00:00+00:00</td>\n",
       "      <td>41.549722</td>\n",
       "      <td>-8.405833</td>\n",
       "      <td>9.4</td>\n",
       "      <td>67.2</td>\n",
       "      <td>None</td>\n",
       "    </tr>\n",
       "    <tr>\n",
       "      <th>7188</th>\n",
       "      <td>2017-12-29T02:00:00+00:00</td>\n",
       "      <td>41.549722</td>\n",
       "      <td>-8.405833</td>\n",
       "      <td>9.4</td>\n",
       "      <td>67.2</td>\n",
       "      <td>None</td>\n",
       "    </tr>\n",
       "  </tbody>\n",
       "</table>\n",
       "</div>"
      ],
      "text/plain": [
       "                                  utc   latitude  longitude pm10   no2    o3\n",
       "locationId                                                                  \n",
       "7188        2017-12-29T04:00:00+00:00  41.549722  -8.405833  9.4  67.2  None\n",
       "7188        2017-12-29T04:00:00+00:00  41.549722  -8.405833  9.4  67.2  None\n",
       "7188        2017-12-29T03:00:00+00:00  41.549722  -8.405833  9.4  67.2  None\n",
       "7188        2017-12-29T03:00:00+00:00  41.549722  -8.405833  9.4  67.2  None\n",
       "7188        2017-12-29T02:00:00+00:00  41.549722  -8.405833  9.4  67.2  None"
      ]
     },
     "execution_count": 10,
     "metadata": {},
     "output_type": "execute_result"
    }
   ],
   "source": [
    "# check head\n",
    "braga_air_data.head()"
   ]
  },
  {
   "cell_type": "code",
   "execution_count": 11,
   "metadata": {},
   "outputs": [],
   "source": [
    "# Calcutate AQI for each row using columns pm10, no2, o3\n",
    "braga_air_data['AQI'] = None"
   ]
  },
  {
   "cell_type": "code",
   "execution_count": 12,
   "metadata": {},
   "outputs": [],
   "source": [
    "# calculate AQI for each row\n",
    "def calculateAQI(data):\n",
    "\n",
    "    # define breakpoints\n",
    "    breakpoints = [\n",
    "        {\n",
    "            \"pollutant\": \"no2\",\n",
    "            \"conc\": [0, 50, 100, 200, 400, 1000],\n",
    "            \"aqi\": [0, 50, 100, 150, 200, 300, 400],\n",
    "        },\n",
    "        {\n",
    "            \"pollutant\": \"pm10\",\n",
    "            \"conc\": [0, 20, 40, 70, 100, 200],\n",
    "            \"aqi\": [0, 50, 100, 150, 200, 300, 400],\n",
    "        },\n",
    "        {\n",
    "            \"pollutant\": \"o3\",\n",
    "            \"conc\": [0, 54, 70, 85, 105, 200],\n",
    "            \"aqi\": [0, 50, 100, 150, 200, 300, 400],\n",
    "        },\n",
    "    ]\n",
    "\n",
    "    # calculate AQI for each pollutant\n",
    "    def aqiForConcentration(pollutant, conc):\n",
    "        bp = next(bp for bp in breakpoints if bp[\"pollutant\"] == pollutant)\n",
    "        i = next(i for i, c in enumerate(bp[\"conc\"]) if c > conc) - 1\n",
    "        cLow = bp[\"conc\"][i]\n",
    "        cHigh = bp[\"conc\"][i + 1]\n",
    "        aqiLow = bp[\"aqi\"][i]\n",
    "        aqiHigh = bp[\"aqi\"][i + 1]\n",
    "        return round(((aqiHigh - aqiLow) / (cHigh - cLow)) * (conc - cLow) + aqiLow)\n",
    "\n",
    "    # calculate AQI for each row\n",
    "    for index, row in data.iterrows():\n",
    "        aqi = None\n",
    "        for pollutant in [\"no2\", \"pm10\", \"o3\"]:\n",
    "            if row[pollutant] is not None:\n",
    "                aqi = aqiForConcentration(pollutant, row[pollutant])\n",
    "                break\n",
    "        data.at[index, \"AQI\"] = aqi\n",
    "    \n",
    "    return data"
   ]
  },
  {
   "cell_type": "code",
   "execution_count": 13,
   "metadata": {},
   "outputs": [],
   "source": [
    "braga_air_data = calculateAQI(braga_air_data)"
   ]
  },
  {
   "cell_type": "code",
   "execution_count": 14,
   "metadata": {},
   "outputs": [
    {
     "data": {
      "text/html": [
       "<div>\n",
       "<style scoped>\n",
       "    .dataframe tbody tr th:only-of-type {\n",
       "        vertical-align: middle;\n",
       "    }\n",
       "\n",
       "    .dataframe tbody tr th {\n",
       "        vertical-align: top;\n",
       "    }\n",
       "\n",
       "    .dataframe thead th {\n",
       "        text-align: right;\n",
       "    }\n",
       "</style>\n",
       "<table border=\"1\" class=\"dataframe\">\n",
       "  <thead>\n",
       "    <tr style=\"text-align: right;\">\n",
       "      <th></th>\n",
       "      <th>utc</th>\n",
       "      <th>latitude</th>\n",
       "      <th>longitude</th>\n",
       "      <th>AQI</th>\n",
       "    </tr>\n",
       "    <tr>\n",
       "      <th>locationId</th>\n",
       "      <th></th>\n",
       "      <th></th>\n",
       "      <th></th>\n",
       "      <th></th>\n",
       "    </tr>\n",
       "  </thead>\n",
       "  <tbody>\n",
       "    <tr>\n",
       "      <th>7188</th>\n",
       "      <td>2017-12-29T04:00:00+00:00</td>\n",
       "      <td>41.549722</td>\n",
       "      <td>-8.405833</td>\n",
       "      <td>67</td>\n",
       "    </tr>\n",
       "    <tr>\n",
       "      <th>7188</th>\n",
       "      <td>2017-12-29T04:00:00+00:00</td>\n",
       "      <td>41.549722</td>\n",
       "      <td>-8.405833</td>\n",
       "      <td>67</td>\n",
       "    </tr>\n",
       "    <tr>\n",
       "      <th>7188</th>\n",
       "      <td>2017-12-29T03:00:00+00:00</td>\n",
       "      <td>41.549722</td>\n",
       "      <td>-8.405833</td>\n",
       "      <td>67</td>\n",
       "    </tr>\n",
       "    <tr>\n",
       "      <th>7188</th>\n",
       "      <td>2017-12-29T03:00:00+00:00</td>\n",
       "      <td>41.549722</td>\n",
       "      <td>-8.405833</td>\n",
       "      <td>67</td>\n",
       "    </tr>\n",
       "    <tr>\n",
       "      <th>7188</th>\n",
       "      <td>2017-12-29T02:00:00+00:00</td>\n",
       "      <td>41.549722</td>\n",
       "      <td>-8.405833</td>\n",
       "      <td>67</td>\n",
       "    </tr>\n",
       "  </tbody>\n",
       "</table>\n",
       "</div>"
      ],
      "text/plain": [
       "                                  utc   latitude  longitude AQI\n",
       "locationId                                                     \n",
       "7188        2017-12-29T04:00:00+00:00  41.549722  -8.405833  67\n",
       "7188        2017-12-29T04:00:00+00:00  41.549722  -8.405833  67\n",
       "7188        2017-12-29T03:00:00+00:00  41.549722  -8.405833  67\n",
       "7188        2017-12-29T03:00:00+00:00  41.549722  -8.405833  67\n",
       "7188        2017-12-29T02:00:00+00:00  41.549722  -8.405833  67"
      ]
     },
     "execution_count": 14,
     "metadata": {},
     "output_type": "execute_result"
    }
   ],
   "source": [
    "# drop columns no2, pm10, o3\n",
    "braga_air_data = braga_air_data.drop(columns=[\"no2\", \"pm10\", \"o3\"])\n",
    "braga_air_data.head()"
   ]
  },
  {
   "cell_type": "code",
   "execution_count": 16,
   "metadata": {},
   "outputs": [
    {
     "ename": "AttributeError",
     "evalue": "'DataFrame' object has no attribute 'utc'",
     "output_type": "error",
     "traceback": [
      "\u001b[0;31m---------------------------------------------------------------------------\u001b[0m",
      "\u001b[0;31mAttributeError\u001b[0m                            Traceback (most recent call last)",
      "Cell \u001b[0;32mIn[16], line 2\u001b[0m\n\u001b[1;32m      1\u001b[0m \u001b[39m# transform the utc column to datetime\u001b[39;00m\n\u001b[0;32m----> 2\u001b[0m braga_air_data\u001b[39m.\u001b[39mutc \u001b[39m=\u001b[39m pd\u001b[39m.\u001b[39mto_datetime(braga_air_data\u001b[39m.\u001b[39;49mutc)\n\u001b[1;32m      4\u001b[0m \u001b[39m# extract the year, month, day, hour, weekday, season, part of the day, is_weekend, is_holiday (holidays.CountryHolidays(\"PT\")) from the utc column\u001b[39;00m\n\u001b[1;32m      5\u001b[0m braga_air_data[\u001b[39m'\u001b[39m\u001b[39myear\u001b[39m\u001b[39m'\u001b[39m] \u001b[39m=\u001b[39m braga_air_data\u001b[39m.\u001b[39mutc\u001b[39m.\u001b[39mdt\u001b[39m.\u001b[39myear\n",
      "File \u001b[0;32m~/anaconda3/envs/deepl/lib/python3.9/site-packages/pandas/core/generic.py:5902\u001b[0m, in \u001b[0;36mNDFrame.__getattr__\u001b[0;34m(self, name)\u001b[0m\n\u001b[1;32m   5895\u001b[0m \u001b[39mif\u001b[39;00m (\n\u001b[1;32m   5896\u001b[0m     name \u001b[39mnot\u001b[39;00m \u001b[39min\u001b[39;00m \u001b[39mself\u001b[39m\u001b[39m.\u001b[39m_internal_names_set\n\u001b[1;32m   5897\u001b[0m     \u001b[39mand\u001b[39;00m name \u001b[39mnot\u001b[39;00m \u001b[39min\u001b[39;00m \u001b[39mself\u001b[39m\u001b[39m.\u001b[39m_metadata\n\u001b[1;32m   5898\u001b[0m     \u001b[39mand\u001b[39;00m name \u001b[39mnot\u001b[39;00m \u001b[39min\u001b[39;00m \u001b[39mself\u001b[39m\u001b[39m.\u001b[39m_accessors\n\u001b[1;32m   5899\u001b[0m     \u001b[39mand\u001b[39;00m \u001b[39mself\u001b[39m\u001b[39m.\u001b[39m_info_axis\u001b[39m.\u001b[39m_can_hold_identifiers_and_holds_name(name)\n\u001b[1;32m   5900\u001b[0m ):\n\u001b[1;32m   5901\u001b[0m     \u001b[39mreturn\u001b[39;00m \u001b[39mself\u001b[39m[name]\n\u001b[0;32m-> 5902\u001b[0m \u001b[39mreturn\u001b[39;00m \u001b[39mobject\u001b[39;49m\u001b[39m.\u001b[39;49m\u001b[39m__getattribute__\u001b[39;49m(\u001b[39mself\u001b[39;49m, name)\n",
      "\u001b[0;31mAttributeError\u001b[0m: 'DataFrame' object has no attribute 'utc'"
     ]
    }
   ],
   "source": [
    "# transform the utc column to datetime\n",
    "braga_air_data.utc = pd.to_datetime(braga_air_data.utc)\n",
    "\n",
    "# extract the year, month, day, hour, weekday, season, part of the day, is_weekend, is_holiday (holidays.CountryHolidays(\"PT\")) from the utc column\n",
    "braga_air_data['year'] = braga_air_data.utc.dt.year\n",
    "braga_air_data['month'] = braga_air_data.utc.dt.month\n",
    "braga_air_data['day'] = braga_air_data.utc.dt.day\n",
    "braga_air_data['hour'] = braga_air_data.utc.dt.hour\n",
    "braga_air_data['weekday'] = braga_air_data.utc.dt.weekday\n",
    "braga_air_data['season'] = braga_air_data.utc.dt.month.apply(lambda x: 'winter' if x in [12, 1, 2] else 'spring' if x in [3, 4, 5] else 'summer' if x in [6, 7, 8] else 'fall')\n",
    "braga_air_data['part_of_day'] = braga_air_data.utc.dt.hour.apply(lambda x: 'morning' if x in [6, 7, 8, 9, 10, 11] else 'afternoon' if x in [12, 13, 14, 15, 16, 17] else 'evening' if x in [18, 19, 20, 21, 22, 23] else 'night')\n",
    "braga_air_data['is_weekend'] = braga_air_data.utc.dt.weekday.apply(lambda x: 1 if x in [5, 6] else 0)\n",
    "braga_air_data['is_holiday'] = braga_air_data.utc.apply(lambda x: 1 if x in holidays.CountryHoliday('PT') else 0)\n",
    "\n",
    "# convert seasons, part_of_day to numerical values\n",
    "braga_air_data.season = braga_air_data.season.apply(lambda x: 1 if x == 'winter' else 2 if x == 'spring' else 3 if x == 'summer' else 4)\n",
    "braga_air_data.part_of_day = braga_air_data.part_of_day.apply(lambda x: 1 if x == 'morning' else 2 if x == 'afternoon' else 3 if x == 'evening' else 4)\n",
    "\n",
    "# drop the utc column\n",
    "braga_air_data.drop('utc', axis=1, inplace=True)\n"
   ]
  },
  {
   "attachments": {},
   "cell_type": "markdown",
   "metadata": {},
   "source": [
    "## Export"
   ]
  },
  {
   "cell_type": "code",
   "execution_count": null,
   "metadata": {},
   "outputs": [],
   "source": [
    "braga_air_data.to_csv(\"OpenAQ/braga_air_data.csv\")"
   ]
  }
 ],
 "metadata": {
  "kernelspec": {
   "display_name": "deepl",
   "language": "python",
   "name": "python3"
  },
  "language_info": {
   "codemirror_mode": {
    "name": "ipython",
    "version": 3
   },
   "file_extension": ".py",
   "mimetype": "text/x-python",
   "name": "python",
   "nbconvert_exporter": "python",
   "pygments_lexer": "ipython3",
   "version": "3.9.16"
  },
  "orig_nbformat": 4
 },
 "nbformat": 4,
 "nbformat_minor": 2
}

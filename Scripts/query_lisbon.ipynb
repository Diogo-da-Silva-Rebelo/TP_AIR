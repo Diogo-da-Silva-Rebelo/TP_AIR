{
 "cells": [
  {
   "cell_type": "code",
   "execution_count": 7,
   "metadata": {},
   "outputs": [],
   "source": [
    "import requests\n",
    "import time\n",
    "\n",
    "url = \"https://api.openaq.org/v2/measurements?format=csv&date_from=2015-01-01&date_to=2018-01-01&limit=100000&page=1&offset=0&sort=desc&radius=1000&country_id=PT&country=PT&city=Lisboa&location_id=7913&order_by=datetime\"\n",
    "\n",
    "headers = {\"accept\": \"application/json\"}\n",
    "\n",
    "response = requests.get(url, headers=headers)\n",
    "\n",
    "with open(\"Lisboa_7913_2015_2018.csv\", \"w\") as f:\n",
    "    f.write(response.text)\n",
    "\n",
    "time.sleep(2)\n",
    "\n",
    "url = \"https://api.openaq.org/v2/measurements?format=csv&date_from=2018-01-01&date_to=2020-01-01&limit=100000&page=1&offset=0&sort=desc&radius=1000&country_id=PT&country=PT&city=Lisboa&location_id=7913&order_by=datetime\"\n",
    "\n",
    "headers = {\"accept\": \"application/json\"}\n",
    "\n",
    "response = requests.get(url, headers=headers)\n",
    "\n",
    "with open(\"Lisboa_7913_2018_2020.csv\", \"w\") as f:\n",
    "    f.write(response.text)\n",
    "\n",
    "time.sleep(2)\n"
   ]
  }
 ],
 "metadata": {
  "kernelspec": {
   "display_name": "deepl",
   "language": "python",
   "name": "python3"
  },
  "language_info": {
   "codemirror_mode": {
    "name": "ipython",
    "version": 3
   },
   "file_extension": ".py",
   "mimetype": "text/x-python",
   "name": "python",
   "nbconvert_exporter": "python",
   "pygments_lexer": "ipython3",
   "version": "3.9.16"
  },
  "orig_nbformat": 4
 },
 "nbformat": 4,
 "nbformat_minor": 2
}
